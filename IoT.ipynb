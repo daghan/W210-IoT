{
 "cells": [
  {
   "cell_type": "markdown",
   "metadata": {},
   "source": [
    "# IoT Project"
   ]
  },
  {
   "cell_type": "markdown",
   "metadata": {},
   "source": [
    "##### To get started"
   ]
  },
  {
   "cell_type": "markdown",
   "metadata": {},
   "source": [
    "We need the following Python libraries:  \n",
    "- Scapy: For parsing network packet traces\n",
    "- IPy: For each IP addressing types (what is a local network address vs what is public network address, etcc)\n",
    "- manuf: Look up a device manufacturer based on MAC address data"
   ]
  },
  {
   "cell_type": "code",
   "execution_count": 51,
   "metadata": {},
   "outputs": [
    {
     "name": "stdout",
     "output_type": "stream",
     "text": [
      "Requirement already satisfied: scapy in /anaconda3/lib/python3.6/site-packages (2.4.0)\n",
      "Requirement already satisfied: IPy in /anaconda3/lib/python3.6/site-packages (0.83)\n",
      "Requirement already satisfied: manuf in /anaconda3/lib/python3.6/site-packages (1.0.0)\n",
      "Requirement already satisfied: pycurl in /anaconda3/lib/python3.6/site-packages (7.43.0.1)\n",
      "Collecting StringIO\n",
      "\u001b[31m  Could not find a version that satisfies the requirement StringIO (from versions: )\u001b[0m\n",
      "\u001b[31mNo matching distribution found for StringIO\u001b[0m\n"
     ]
    }
   ],
   "source": [
    "!pip install scapy IPy manuf pycurl StringIO"
   ]
  },
  {
   "cell_type": "code",
   "execution_count": 3,
   "metadata": {},
   "outputs": [],
   "source": [
    "from scapy.all import *\n",
    "from manuf import manuf"
   ]
  },
  {
   "cell_type": "code",
   "execution_count": 11,
   "metadata": {},
   "outputs": [],
   "source": [
    "#help(scapy.all)"
   ]
  },
  {
   "cell_type": "code",
   "execution_count": 39,
   "metadata": {},
   "outputs": [
    {
     "data": {
      "text/plain": [
       "'Apple'"
      ]
     },
     "execution_count": 39,
     "metadata": {},
     "output_type": "execute_result"
    }
   ],
   "source": [
    "packets =rdpcap(\"./packet_capture.pcap\")\n",
    "p = manuf.MacParser(update=True)\n",
    "# Example for testing Manufacturer look up based on MAC ID\n",
    "p.get_all('84:38:35:5a:70:40')[0]"
   ]
  },
  {
   "cell_type": "code",
   "execution_count": 47,
   "metadata": {},
   "outputs": [
    {
     "name": "stdout",
     "output_type": "stream",
     "text": [
      "defaultdict(<class 'list'>,\n",
      "            {   '28:f0:76:31:d3:58': {   '104.154.127.3',\n",
      "                                         '108.177.98.189',\n",
      "                                         '172.217.164.106',\n",
      "                                         'Apple'},\n",
      "                '84:38:35:5a:70:40': {   '151.101.1.254',\n",
      "                                         '162.125.7.3',\n",
      "                                         '185.217.0.110',\n",
      "                                         '216.58.195.243',\n",
      "                                         'Apple'},\n",
      "                '88:71:e5:d2:73:4b': {   '34.236.127.105',\n",
      "                                         '52.46.132.50',\n",
      "                                         'AmazonTe'}})\n"
     ]
    }
   ],
   "source": [
    "import numpy as np\n",
    "import pandas as pd\n",
    "from collections import defaultdict\n",
    "from scapy.all import *\n",
    "from IPy import IP as IPy\n",
    "import pprint\n",
    "\n",
    "d= defaultdict(list)\n",
    "\n",
    "columns = ['MAC ID', 'Manufacturer']\n",
    "df = pd.DataFrame(columns=columns)\n",
    "\n",
    "#for i in range(len(packets)):\n",
    "for i in range(50):\n",
    "    packet = packets[i]\n",
    "    ## traffic patterns:\n",
    "    # WAN to LAN: ignore for now\n",
    "    # LAN to LAN/WAN: \n",
    "    if (packet.haslayer(IP) == 1):\n",
    "        #print(packet.show())\n",
    "        mac_id = packet[\"Ether.src\"]\n",
    "        IP_src = packet[\"IP.src\"]\n",
    "        IP_dst = packet[\"IP.dst\"]\n",
    "        if (IPy(IP_src).iptype() == \"PRIVATE\"):\n",
    "            if (IPy(IP_dst).iptype() == \"PUBLIC\"):\n",
    "                if mac_id not in d:\n",
    "                    d[mac_id] = set([p.get_all(mac_id)[0],IP_dst])\n",
    "                else:\n",
    "                    d[mac_id].add(IP_dst)\n",
    "        \n",
    "    \n",
    "    \n",
    "    # if the device is in the dataframe\n",
    "    #df.loc[i] = [mac_id, p.get_all(mac_id)[0]]\n",
    "pp = pprint.PrettyPrinter(indent=4)\n",
    "pp.pprint(d)"
   ]
  },
  {
   "cell_type": "code",
   "execution_count": 59,
   "metadata": {},
   "outputs": [
    {
     "name": "stdout",
     "output_type": "stream",
     "text": [
      "{\n",
      "  \"ip\": \"216.58.195.243\",\n",
      "  \"hostname\": \"sfo03s06-in-f19.1e100.net\",\n",
      "  \"city\": \"Mountain View\",\n",
      "  \"region\": \"California\",\n",
      "  \"country\": \"US\",\n",
      "  \"loc\": \"37.4192,-122.0570\",\n",
      "  \"postal\": \"94043\",\n",
      "  \"org\": \"AS15169 Google LLC\"\n",
      "}\n"
     ]
    }
   ],
   "source": [
    "import pycurl\n",
    "from io import StringIO\n",
    "\n",
    "c = pycurl.Curl()\n",
    "c.setopt(c.URL, 'https://ipinfo.io/216.58.195.243?token=4b22562280ac95')\n",
    "\n",
    "e = io.BytesIO()\n",
    "c.setopt(pycurl.WRITEFUNCTION, e.write)\n",
    "c.perform()\n",
    "c.close()\n",
    "htmlString = e.getvalue().decode('UTF-8')\n",
    "print(htmlString)"
   ]
  },
  {
   "cell_type": "code",
   "execution_count": 60,
   "metadata": {},
   "outputs": [
    {
     "data": {
      "text/plain": [
       "str"
      ]
     },
     "execution_count": 60,
     "metadata": {},
     "output_type": "execute_result"
    }
   ],
   "source": [
    "type(htmlString)"
   ]
  },
  {
   "cell_type": "code",
   "execution_count": null,
   "metadata": {},
   "outputs": [],
   "source": []
  }
 ],
 "metadata": {
  "kernelspec": {
   "display_name": "Python 3",
   "language": "python",
   "name": "python3"
  },
  "language_info": {
   "codemirror_mode": {
    "name": "ipython",
    "version": 3
   },
   "file_extension": ".py",
   "mimetype": "text/x-python",
   "name": "python",
   "nbconvert_exporter": "python",
   "pygments_lexer": "ipython3",
   "version": "3.6.4"
  }
 },
 "nbformat": 4,
 "nbformat_minor": 1
}
