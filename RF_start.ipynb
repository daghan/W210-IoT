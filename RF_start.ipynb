{
 "cells": [
  {
   "cell_type": "code",
   "execution_count": 8,
   "metadata": {},
   "outputs": [],
   "source": [
    "import numpy as np\n",
    "import pandas as pd\n",
    "import scapy\n",
    "import pprint\n",
    "from collections import defaultdict\n",
    "from IPy import IP as IPy\n",
    "from manuf import manuf\n",
    "\n",
    "from sklearn.ensemble import RandomForestClassifier\n",
    "from sklearn.datasets import make_classification"
   ]
  },
  {
   "cell_type": "code",
   "execution_count": 24,
   "metadata": {},
   "outputs": [
    {
     "data": {
      "text/html": [
       "<div>\n",
       "<style>\n",
       "    .dataframe thead tr:only-child th {\n",
       "        text-align: right;\n",
       "    }\n",
       "\n",
       "    .dataframe thead th {\n",
       "        text-align: left;\n",
       "    }\n",
       "\n",
       "    .dataframe tbody tr th {\n",
       "        vertical-align: top;\n",
       "    }\n",
       "</style>\n",
       "<table border=\"1\" class=\"dataframe\">\n",
       "  <thead>\n",
       "    <tr style=\"text-align: right;\">\n",
       "      <th></th>\n",
       "      <th>Unnamed: 0</th>\n",
       "      <th>MacID</th>\n",
       "      <th>DNS</th>\n",
       "      <th>HTTP</th>\n",
       "      <th>HTTPS</th>\n",
       "      <th>mDNS</th>\n",
       "      <th>OUI</th>\n",
       "      <th>Organization Name</th>\n",
       "      <th>Device Type</th>\n",
       "      <th>Manufacturer Device Type</th>\n",
       "    </tr>\n",
       "  </thead>\n",
       "  <tbody>\n",
       "    <tr>\n",
       "      <th>0</th>\n",
       "      <td>0</td>\n",
       "      <td>00:18:0a:12:2f:2d</td>\n",
       "      <td>NaN</td>\n",
       "      <td>{'199.231.78.217': 'b\\'\\\\x17\\\\x03\\\\x01\\\\x02 0&lt;...</td>\n",
       "      <td>NaN</td>\n",
       "      <td>NaN</td>\n",
       "      <td>00180A</td>\n",
       "      <td>Cisco Meraki</td>\n",
       "      <td>Phone</td>\n",
       "      <td>Meraki Phone</td>\n",
       "    </tr>\n",
       "    <tr>\n",
       "      <th>1</th>\n",
       "      <td>1</td>\n",
       "      <td>28:f0:76:31:d3:58</td>\n",
       "      <td>clients6.google.com.</td>\n",
       "      <td>{'104.154.127.3': 'b\"\\\\x93\\\\x938\\\\x1f\\\\x0f\\\\xe...</td>\n",
       "      <td>{'52.201.158.18', '216.58.194.165', '172.217.1...</td>\n",
       "      <td>NaN</td>\n",
       "      <td>28F076</td>\n",
       "      <td>Apple, Inc.</td>\n",
       "      <td>Computer</td>\n",
       "      <td>Apple Computer</td>\n",
       "    </tr>\n",
       "    <tr>\n",
       "      <th>2</th>\n",
       "      <td>2</td>\n",
       "      <td>40:cb:c0:bc:36:7e</td>\n",
       "      <td>NaN</td>\n",
       "      <td>NaN</td>\n",
       "      <td>NaN</td>\n",
       "      <td>40CBC0BC367E@Apple TV._raop._tcp.local.,40CBC0...</td>\n",
       "      <td>40CBC0</td>\n",
       "      <td>Apple, Inc.</td>\n",
       "      <td>TV</td>\n",
       "      <td>Apple TV</td>\n",
       "    </tr>\n",
       "    <tr>\n",
       "      <th>3</th>\n",
       "      <td>3</td>\n",
       "      <td>44:65:0d:90:60:3a</td>\n",
       "      <td>NaN</td>\n",
       "      <td>{'104.154.127.60': 'b\"M]\\'3\\\\x13\\\\x8c\\\\x93\\\\xb...</td>\n",
       "      <td>{'52.46.136.77'}</td>\n",
       "      <td>NaN</td>\n",
       "      <td>44650D</td>\n",
       "      <td>Amazon Technologies Inc.</td>\n",
       "      <td>Echo</td>\n",
       "      <td>Amazon Technologies Echo</td>\n",
       "    </tr>\n",
       "    <tr>\n",
       "      <th>4</th>\n",
       "      <td>4</td>\n",
       "      <td>5c:aa:fd:4c:87:a0</td>\n",
       "      <td>NaN</td>\n",
       "      <td>NaN</td>\n",
       "      <td>{'54.208.201.219'}</td>\n",
       "      <td>NaN</td>\n",
       "      <td>5CAAFD</td>\n",
       "      <td>Sonos, Inc.</td>\n",
       "      <td>Speaker</td>\n",
       "      <td>Sonos Speaker</td>\n",
       "    </tr>\n",
       "  </tbody>\n",
       "</table>\n",
       "</div>"
      ],
      "text/plain": [
       "   Unnamed: 0              MacID                   DNS  \\\n",
       "0           0  00:18:0a:12:2f:2d                   NaN   \n",
       "1           1  28:f0:76:31:d3:58  clients6.google.com.   \n",
       "2           2  40:cb:c0:bc:36:7e                   NaN   \n",
       "3           3  44:65:0d:90:60:3a                   NaN   \n",
       "4           4  5c:aa:fd:4c:87:a0                   NaN   \n",
       "\n",
       "                                                HTTP  \\\n",
       "0  {'199.231.78.217': 'b\\'\\\\x17\\\\x03\\\\x01\\\\x02 0<...   \n",
       "1  {'104.154.127.3': 'b\"\\\\x93\\\\x938\\\\x1f\\\\x0f\\\\xe...   \n",
       "2                                                NaN   \n",
       "3  {'104.154.127.60': 'b\"M]\\'3\\\\x13\\\\x8c\\\\x93\\\\xb...   \n",
       "4                                                NaN   \n",
       "\n",
       "                                               HTTPS  \\\n",
       "0                                                NaN   \n",
       "1  {'52.201.158.18', '216.58.194.165', '172.217.1...   \n",
       "2                                                NaN   \n",
       "3                                   {'52.46.136.77'}   \n",
       "4                                 {'54.208.201.219'}   \n",
       "\n",
       "                                                mDNS     OUI  \\\n",
       "0                                                NaN  00180A   \n",
       "1                                                NaN  28F076   \n",
       "2  40CBC0BC367E@Apple TV._raop._tcp.local.,40CBC0...  40CBC0   \n",
       "3                                                NaN  44650D   \n",
       "4                                                NaN  5CAAFD   \n",
       "\n",
       "          Organization Name Device Type  Manufacturer Device Type  \n",
       "0              Cisco Meraki       Phone              Meraki Phone  \n",
       "1               Apple, Inc.    Computer            Apple Computer  \n",
       "2               Apple, Inc.          TV                  Apple TV  \n",
       "3  Amazon Technologies Inc.        Echo  Amazon Technologies Echo  \n",
       "4               Sonos, Inc.     Speaker             Sonos Speaker  "
      ]
     },
     "execution_count": 24,
     "metadata": {},
     "output_type": "execute_result"
    }
   ],
   "source": [
    "df = pd.read_csv(\"init_data\")\n",
    "df.head()"
   ]
  },
  {
   "cell_type": "code",
   "execution_count": 25,
   "metadata": {},
   "outputs": [],
   "source": [
    "y1 = df['Manufacturer Device Type']\n",
    "y2 = df['Device Type']\n"
   ]
  },
  {
   "cell_type": "code",
   "execution_count": 26,
   "metadata": {},
   "outputs": [],
   "source": [
    "del df['Unnamed: 0']\n",
    "del df['Device Type']\n",
    "del df['Manufacturer Device Type']\n"
   ]
  },
  {
   "cell_type": "code",
   "execution_count": 28,
   "metadata": {},
   "outputs": [
    {
     "ename": "ValueError",
     "evalue": "could not convert string to float: 'Belkin International Inc.'",
     "output_type": "error",
     "traceback": [
      "\u001b[0;31m---------------------------------------------------------------------------\u001b[0m",
      "\u001b[0;31mValueError\u001b[0m                                Traceback (most recent call last)",
      "\u001b[0;32m<ipython-input-28-cf36ed20a520>\u001b[0m in \u001b[0;36m<module>\u001b[0;34m()\u001b[0m\n\u001b[1;32m      1\u001b[0m \u001b[0mclf\u001b[0m \u001b[0;34m=\u001b[0m \u001b[0mRandomForestClassifier\u001b[0m\u001b[0;34m(\u001b[0m\u001b[0;34m)\u001b[0m\u001b[0;34m\u001b[0m\u001b[0m\n\u001b[0;32m----> 2\u001b[0;31m \u001b[0mclf\u001b[0m\u001b[0;34m.\u001b[0m\u001b[0mfit\u001b[0m\u001b[0;34m(\u001b[0m\u001b[0mdf\u001b[0m\u001b[0;34m,\u001b[0m \u001b[0my1\u001b[0m\u001b[0;34m)\u001b[0m\u001b[0;34m\u001b[0m\u001b[0m\n\u001b[0m\u001b[1;32m      3\u001b[0m \u001b[0mprint\u001b[0m\u001b[0;34m(\u001b[0m\u001b[0mclf\u001b[0m\u001b[0;34m.\u001b[0m\u001b[0mfeature_importances_\u001b[0m\u001b[0;34m)\u001b[0m\u001b[0;34m\u001b[0m\u001b[0m\n",
      "\u001b[0;32m~/anaconda3/lib/python3.6/site-packages/sklearn/ensemble/forest.py\u001b[0m in \u001b[0;36mfit\u001b[0;34m(self, X, y, sample_weight)\u001b[0m\n\u001b[1;32m    245\u001b[0m         \"\"\"\n\u001b[1;32m    246\u001b[0m         \u001b[0;31m# Validate or convert input data\u001b[0m\u001b[0;34m\u001b[0m\u001b[0;34m\u001b[0m\u001b[0m\n\u001b[0;32m--> 247\u001b[0;31m         \u001b[0mX\u001b[0m \u001b[0;34m=\u001b[0m \u001b[0mcheck_array\u001b[0m\u001b[0;34m(\u001b[0m\u001b[0mX\u001b[0m\u001b[0;34m,\u001b[0m \u001b[0maccept_sparse\u001b[0m\u001b[0;34m=\u001b[0m\u001b[0;34m\"csc\"\u001b[0m\u001b[0;34m,\u001b[0m \u001b[0mdtype\u001b[0m\u001b[0;34m=\u001b[0m\u001b[0mDTYPE\u001b[0m\u001b[0;34m)\u001b[0m\u001b[0;34m\u001b[0m\u001b[0m\n\u001b[0m\u001b[1;32m    248\u001b[0m         \u001b[0my\u001b[0m \u001b[0;34m=\u001b[0m \u001b[0mcheck_array\u001b[0m\u001b[0;34m(\u001b[0m\u001b[0my\u001b[0m\u001b[0;34m,\u001b[0m \u001b[0maccept_sparse\u001b[0m\u001b[0;34m=\u001b[0m\u001b[0;34m'csc'\u001b[0m\u001b[0;34m,\u001b[0m \u001b[0mensure_2d\u001b[0m\u001b[0;34m=\u001b[0m\u001b[0;32mFalse\u001b[0m\u001b[0;34m,\u001b[0m \u001b[0mdtype\u001b[0m\u001b[0;34m=\u001b[0m\u001b[0;32mNone\u001b[0m\u001b[0;34m)\u001b[0m\u001b[0;34m\u001b[0m\u001b[0m\n\u001b[1;32m    249\u001b[0m         \u001b[0;32mif\u001b[0m \u001b[0msample_weight\u001b[0m \u001b[0;32mis\u001b[0m \u001b[0;32mnot\u001b[0m \u001b[0;32mNone\u001b[0m\u001b[0;34m:\u001b[0m\u001b[0;34m\u001b[0m\u001b[0m\n",
      "\u001b[0;32m~/anaconda3/lib/python3.6/site-packages/sklearn/utils/validation.py\u001b[0m in \u001b[0;36mcheck_array\u001b[0;34m(array, accept_sparse, dtype, order, copy, force_all_finite, ensure_2d, allow_nd, ensure_min_samples, ensure_min_features, warn_on_dtype, estimator)\u001b[0m\n\u001b[1;32m    431\u001b[0m                                       force_all_finite)\n\u001b[1;32m    432\u001b[0m     \u001b[0;32melse\u001b[0m\u001b[0;34m:\u001b[0m\u001b[0;34m\u001b[0m\u001b[0m\n\u001b[0;32m--> 433\u001b[0;31m         \u001b[0marray\u001b[0m \u001b[0;34m=\u001b[0m \u001b[0mnp\u001b[0m\u001b[0;34m.\u001b[0m\u001b[0marray\u001b[0m\u001b[0;34m(\u001b[0m\u001b[0marray\u001b[0m\u001b[0;34m,\u001b[0m \u001b[0mdtype\u001b[0m\u001b[0;34m=\u001b[0m\u001b[0mdtype\u001b[0m\u001b[0;34m,\u001b[0m \u001b[0morder\u001b[0m\u001b[0;34m=\u001b[0m\u001b[0morder\u001b[0m\u001b[0;34m,\u001b[0m \u001b[0mcopy\u001b[0m\u001b[0;34m=\u001b[0m\u001b[0mcopy\u001b[0m\u001b[0;34m)\u001b[0m\u001b[0;34m\u001b[0m\u001b[0m\n\u001b[0m\u001b[1;32m    434\u001b[0m \u001b[0;34m\u001b[0m\u001b[0m\n\u001b[1;32m    435\u001b[0m         \u001b[0;32mif\u001b[0m \u001b[0mensure_2d\u001b[0m\u001b[0;34m:\u001b[0m\u001b[0;34m\u001b[0m\u001b[0m\n",
      "\u001b[0;31mValueError\u001b[0m: could not convert string to float: 'Belkin International Inc.'"
     ]
    }
   ],
   "source": [
    "clf = RandomForestClassifier()\n",
    "clf.fit(df, y1)\n",
    "print(clf.feature_importances_)"
   ]
  },
  {
   "cell_type": "code",
   "execution_count": null,
   "metadata": {
    "collapsed": true
   },
   "outputs": [],
   "source": []
  }
 ],
 "metadata": {
  "kernelspec": {
   "display_name": "Python 3",
   "language": "python",
   "name": "python3"
  },
  "language_info": {
   "codemirror_mode": {
    "name": "ipython",
    "version": 3
   },
   "file_extension": ".py",
   "mimetype": "text/x-python",
   "name": "python",
   "nbconvert_exporter": "python",
   "pygments_lexer": "ipython3",
   "version": "3.6.3"
  }
 },
 "nbformat": 4,
 "nbformat_minor": 2
}
