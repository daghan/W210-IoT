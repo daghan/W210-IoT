{
 "cells": [
  {
   "cell_type": "code",
   "execution_count": 1,
   "metadata": {
    "collapsed": true
   },
   "outputs": [],
   "source": [
    "import numpy as np\n",
    "import pandas as pd\n",
    "import pprint\n",
    "from scapy.all import *\n",
    "from collections import defaultdict\n",
    "from IPy import IP as IPy\n",
    "#from manuf import manuf"
   ]
  },
  {
   "cell_type": "code",
   "execution_count": 2,
   "metadata": {
    "collapsed": true
   },
   "outputs": [],
   "source": [
    "# change this to the filename that you want to convert to a dataframe\n",
    "\n",
    "filename = \"./packet_capture.pcap\""
   ]
  },
  {
   "cell_type": "code",
   "execution_count": 3,
   "metadata": {
    "collapsed": true
   },
   "outputs": [],
   "source": [
    "packets = rdpcap(filename)"
   ]
  },
  {
   "cell_type": "code",
   "execution_count": 4,
   "metadata": {
    "collapsed": true,
    "scrolled": false
   },
   "outputs": [],
   "source": [
    "p_dict = {'Ether': ['dst', 'src', 'type'],\n",
    "          'IP': ['version', 'ihl', 'tos', 'len', 'id', 'flags', 'frag', 'ttl', 'proto', 'chksum', 'src', 'dst'],\n",
    "          'TCP': ['sport', 'dport', 'seq', 'ack', 'dataofs', 'reserved', 'flags', 'window', 'chksum', 'urgptr', 'options'],\n",
    "          'Raw': ['load']       \n",
    "         }\n",
    "\n",
    "\n",
    "feature_list = []\n",
    "\n",
    "# Probably a better way to do this other than 3 nested loops!\n",
    "# On the small file takes 5 secs to run but on a bigger file will probalby be -a lot- worse\n",
    "# Goes through each packet and each of the key value pairs in the dict above to grab\n",
    "# each value from the raw file to make into a dataframe\n",
    "\n",
    "count = 0\n",
    "for p in packets:\n",
    "    feature_dict = defaultdict(str)\n",
    "    for key in p_dict.keys():\n",
    "        for cat in p_dict[key]:\n",
    "            col_key = key + '_' + cat\n",
    "            call = '\"%' + key + '.' + cat + '%\"'\n",
    "            #print(call)\n",
    "            \n",
    "            try:           \n",
    "                feature_dict[col_key] = p.sprintf(call)\n",
    "            except:\n",
    "                feature_dict[col_key] = 'Null'\n",
    "    \n",
    "    feature_list.append(feature_dict)"
   ]
  },
  {
   "cell_type": "code",
   "execution_count": 5,
   "metadata": {
    "collapsed": true
   },
   "outputs": [],
   "source": [
    "df2 = pd.DataFrame(feature_list)"
   ]
  },
  {
   "cell_type": "code",
   "execution_count": 6,
   "metadata": {},
   "outputs": [],
   "source": [
    "df = df2.replace('\"??\"', np.nan)"
   ]
  },
  {
   "cell_type": "code",
   "execution_count": 7,
   "metadata": {},
   "outputs": [],
   "source": [
    "df['load_len'] = df['Raw_load'].str.len()"
   ]
  },
  {
   "cell_type": "code",
   "execution_count": 8,
   "metadata": {
    "collapsed": true
   },
   "outputs": [],
   "source": [
    "drop_list = ['Ether_type',\n",
    " 'IP_chksum',\n",
    " 'IP_dst',\n",
    " 'IP_flags',\n",
    " 'IP_frag',\n",
    " 'IP_ihl',\n",
    " 'IP_src',\n",
    " 'IP_tos',\n",
    " 'IP_version',\n",
    " 'Raw_load',\n",
    " 'TCP_ack',\n",
    " 'TCP_chksum',\n",
    " 'TCP_options',\n",
    " 'TCP_reserved',\n",
    " 'TCP_urgptr'\n",
    "]\n",
    "df.drop(drop_list, inplace=True, axis=1, errors='ignore')"
   ]
  },
  {
   "cell_type": "code",
   "execution_count": 9,
   "metadata": {
    "collapsed": true
   },
   "outputs": [],
   "source": [
    "df['TCP_dport'] = df['TCP_dport'].replace('\"https\"', '334')\n",
    "df['TCP_dport'] = df['TCP_dport'].replace('\"http_alt\"', '8080')\n",
    "df['TCP_dport'] = df['TCP_dport'].replace('\"http\"', '80')\n",
    "df['TCP_sport'] = df['TCP_sport'].replace('\"https\"', '334')\n",
    "df['TCP_sport'] = df['TCP_sport'].replace('\"http_alt\"', '8080')\n",
    "df['TCP_sport'] = df['TCP_sport'].replace('\"http\"', '80')"
   ]
  },
  {
   "cell_type": "code",
   "execution_count": 10,
   "metadata": {
    "scrolled": true
   },
   "outputs": [],
   "source": [
    "def f(x):\n",
    "    try:\n",
    "        x = x.str.strip('\"')\n",
    "        return x\n",
    "    except:\n",
    "        return x\n",
    "        \n",
    "\n",
    "df = df.apply(f)"
   ]
  },
  {
   "cell_type": "code",
   "execution_count": 11,
   "metadata": {
    "collapsed": true
   },
   "outputs": [],
   "source": [
    "col_list = ['IP_id', 'IP_len', 'IP_ttl', 'TCP_dataofs', 'TCP_dport','TCP_seq', 'TCP_sport', 'TCP_window']\n",
    "\n",
    "for col in col_list:\n",
    "    df[col]=pd.to_numeric(df[col], errors='coerce')"
   ]
  },
  {
   "cell_type": "code",
   "execution_count": 12,
   "metadata": {},
   "outputs": [],
   "source": [
    "df3 = df.drop(df[df['IP_proto'].isnull()].index)"
   ]
  },
  {
   "cell_type": "code",
   "execution_count": 14,
   "metadata": {},
   "outputs": [],
   "source": [
    "df3 = pd.get_dummies(df3, columns=['IP_proto', 'TCP_flags'], prefix=['IP_proto', 'TCP_flags'])"
   ]
  },
  {
   "cell_type": "code",
   "execution_count": 15,
   "metadata": {
    "collapsed": true
   },
   "outputs": [],
   "source": [
    "label_df = pd.read_csv('init_data.csv')"
   ]
  },
  {
   "cell_type": "code",
   "execution_count": 16,
   "metadata": {},
   "outputs": [],
   "source": [
    "def lab(x):\n",
    "    if x == 'Meraki Phone':\n",
    "        return 0\n",
    "    elif x == 'Apple Computer':\n",
    "        return 1\n",
    "    elif x == 'Apple TV':\n",
    "        return 2\n",
    "    elif x == 'Amazon Technologies Echo':\n",
    "        return 3\n",
    "    elif x == 'Sonos Speaker':\n",
    "        return 4\n",
    "    elif x == 'Belkin Wallplug':\n",
    "        return 5\n",
    "    else:\n",
    "        return '?'\n",
    "    \n",
    "\n",
    "label_df['label'] = label_df['Manufacturer Device Type'].apply(lab)"
   ]
  },
  {
   "cell_type": "code",
   "execution_count": 17,
   "metadata": {
    "collapsed": true
   },
   "outputs": [],
   "source": [
    "def lab2(x):\n",
    "    if x == '00:18:0a:12:2f:2d':\n",
    "        return 0\n",
    "    elif x == '28:f0:76:31:d3:58' or x == '84:38:35:5a:70:40':\n",
    "        return 1\n",
    "    elif x == '40:cb:c0:bc:36:7e':\n",
    "        return 2\n",
    "    elif x == '44:65:0d:90:60:3a' or x == '88:71:e5:d2:73:4b' or x == 'b4:7c:9c:31:b4:df':\n",
    "        return 3\n",
    "    elif x == '5c:aa:fd:4c:87:a0' or x == '5c:aa:fd:4c:92:86' or x == '78:28:ca:03:80:0c' or x == 'b8:e9:37:8c:da:3c':\n",
    "        return 4\n",
    "    elif x == 'ec:1a:59:f6:eb:45':\n",
    "        return 5\n",
    "    else:\n",
    "        return ''\n",
    "\n",
    "df3['label_src'] = df3['Ether_src'].apply(lab2)\n",
    "# df3['label_dst'] = df3['Ether_dst'].apply(lab2)"
   ]
  },
  {
   "cell_type": "code",
   "execution_count": 18,
   "metadata": {},
   "outputs": [],
   "source": [
    "final_df = df3[df3['label_src'] != '']"
   ]
  },
  {
   "cell_type": "code",
   "execution_count": 20,
   "metadata": {},
   "outputs": [],
   "source": [
    "final_df.to_csv('final_df.csv')"
   ]
  }
 ],
 "metadata": {
  "kernelspec": {
   "display_name": "Python 3",
   "language": "python",
   "name": "python3"
  },
  "language_info": {
   "codemirror_mode": {
    "name": "ipython",
    "version": 3
   },
   "file_extension": ".py",
   "mimetype": "text/x-python",
   "name": "python",
   "nbconvert_exporter": "python",
   "pygments_lexer": "ipython3",
   "version": "3.6.3"
  }
 },
 "nbformat": 4,
 "nbformat_minor": 2
}
