{
 "cells": [
  {
   "cell_type": "code",
   "execution_count": null,
   "metadata": {
    "collapsed": true
   },
   "outputs": [],
   "source": [
    "import numpy as np\n",
    "import pandas as pd\n",
    "import pprint\n",
    "from scapy.all import *\n",
    "from collections import defaultdict\n",
    "from IPy import IP as IPy\n",
    "#from manuf import manuf"
   ]
  },
  {
   "cell_type": "code",
   "execution_count": null,
   "metadata": {
    "collapsed": true
   },
   "outputs": [],
   "source": [
    "# change this to the filename that you want to convert to a dataframe\n",
    "\n",
    "filename = \"./packet_capture.pcap\""
   ]
  },
  {
   "cell_type": "code",
   "execution_count": null,
   "metadata": {
    "collapsed": true
   },
   "outputs": [],
   "source": [
    "packets = rdpcap(filename)"
   ]
  },
  {
   "cell_type": "code",
   "execution_count": null,
   "metadata": {
    "collapsed": true,
    "scrolled": false
   },
   "outputs": [],
   "source": [
    "p_dict = {'Ether': ['dst', 'src', 'type'],\n",
    "          'IP': ['version', 'ihl', 'tos', 'len', 'id', 'flags', 'frag', 'ttl', 'proto', 'chksum', 'src', 'dst'],\n",
    "          'TCP': ['sport', 'dport', 'seq', 'ack', 'dataofs', 'reserved', 'flags', 'window', 'chksum', 'urgptr', 'options'],\n",
    "          'Raw': ['load']       \n",
    "         }\n",
    "\n",
    "\n",
    "feature_list = []\n",
    "\n",
    "# Probably a better way to do this other than 3 nested loops!\n",
    "# On the small file takes 5 secs to run but on a bigger file will probalby be -a lot- worse\n",
    "# Goes through each packet and each of the key value pairs in the dict above to grab\n",
    "# each value from the raw file to make into a dataframe\n",
    "\n",
    "count = 0\n",
    "for p in packets:\n",
    "    feature_dict = defaultdict(str)\n",
    "    for key in p_dict.keys():\n",
    "        for cat in p_dict[key]:\n",
    "            col_key = key + '_' + cat\n",
    "            call = '\"%' + key + '.' + cat + '%\"'\n",
    "            #print(call)\n",
    "            \n",
    "            try:           \n",
    "                feature_dict[col_key] = p.sprintf(call)\n",
    "            except:\n",
    "                feature_dict[col_key] = 'Null'\n",
    "    \n",
    "    feature_list.append(feature_dict)"
   ]
  },
  {
   "cell_type": "code",
   "execution_count": null,
   "metadata": {
    "collapsed": true
   },
   "outputs": [],
   "source": [
    "df = pd.DataFrame(feature_list)"
   ]
  },
  {
   "cell_type": "code",
   "execution_count": null,
   "metadata": {},
   "outputs": [],
   "source": [
    "df"
   ]
  },
  {
   "cell_type": "code",
   "execution_count": null,
   "metadata": {},
   "outputs": [],
   "source": [
    "list(df)"
   ]
  },
  {
   "cell_type": "code",
   "execution_count": null,
   "metadata": {},
   "outputs": [],
   "source": [
    "for col in list(df):\n",
    "    print(df[col].value_counts())"
   ]
  },
  {
   "cell_type": "code",
   "execution_count": null,
   "metadata": {},
   "outputs": [],
   "source": [
    "df.to_csv(\"small_df\")"
   ]
  },
  {
   "cell_type": "code",
   "execution_count": null,
   "metadata": {
    "collapsed": true
   },
   "outputs": [],
   "source": []
  }
 ],
 "metadata": {
  "kernelspec": {
   "display_name": "Python 3",
   "language": "python",
   "name": "python3"
  },
  "language_info": {
   "codemirror_mode": {
    "name": "ipython",
    "version": 3
   },
   "file_extension": ".py",
   "mimetype": "text/x-python",
   "name": "python",
   "nbconvert_exporter": "python",
   "pygments_lexer": "ipython3",
   "version": "3.6.3"
  }
 },
 "nbformat": 4,
 "nbformat_minor": 2
}
