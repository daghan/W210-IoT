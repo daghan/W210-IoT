{
 "cells": [
  {
   "cell_type": "code",
   "execution_count": 1,
   "metadata": {
    "collapsed": true
   },
   "outputs": [],
   "source": [
    "import numpy as np\n",
    "import pandas as pd\n",
    "import pprint\n",
    "from scapy.all import *\n",
    "from collections import defaultdict\n",
    "from IPy import IP as IPy\n",
    "from manuf import manuf"
   ]
  },
  {
   "cell_type": "code",
   "execution_count": 2,
   "metadata": {
    "collapsed": true
   },
   "outputs": [],
   "source": [
    "# change this to the filename that you want to convert to a dataframe\n",
    "\n",
    "filename = \"./packet_capture.pcap\""
   ]
  },
  {
   "cell_type": "code",
   "execution_count": 3,
   "metadata": {
    "collapsed": true
   },
   "outputs": [],
   "source": [
    "packets = rdpcap(filename)"
   ]
  },
  {
   "cell_type": "code",
   "execution_count": 27,
   "metadata": {
    "scrolled": false
   },
   "outputs": [],
   "source": [
    "p_dict = {'Ethernet': ['dst', 'src', 'type'],\n",
    "          'IP': ['version', 'ihl', 'tos', 'len', 'id', 'flags', 'frag', 'ttl', 'proto', 'chksum', 'src', 'dst'],\n",
    "          'TCP': ['sport', 'dport', 'seq', 'ack', 'dataofs', 'reserved', 'flags', 'window', 'chksum', 'urgptr', 'options'],\n",
    "          'Raw': ['load']       \n",
    "         }\n",
    "\n",
    "feature_dict = defaultdict(str)\n",
    "feature_list = []\n",
    "\n",
    "# Probably a better way to do this other than 3 nested loops!\n",
    "# On the small file takes 5 secs to run but on a bigger file will probalby be -a lot- worse\n",
    "# Goes through each packet and each of the key value pairs in the dict above to grab\n",
    "# each value from the raw file to make into a dataframe\n",
    "\n",
    "count = 0\n",
    "for p in packets:\n",
    "    for key in p_dict.keys():\n",
    "        for cat in p_dict[key]:\n",
    "            col_key = key + '_' + cat\n",
    "            call = '\"%' + key + '.' + cat + '%\"'\n",
    "            \n",
    "            try:           \n",
    "                feature_dict[col_key] = p.sprintf(call)\n",
    "            except:\n",
    "                feature_dict[col_key] = 'Null'\n",
    "    \n",
    "    feature_list.append(feature_dict)\n",
    "    count += 1\n",
    "    if count > 2:\n",
    "        break"
   ]
  },
  {
   "cell_type": "code",
   "execution_count": 28,
   "metadata": {
    "collapsed": true
   },
   "outputs": [],
   "source": [
    "df = pd.DataFrame(feature_list)"
   ]
  },
  {
   "cell_type": "code",
   "execution_count": 29,
   "metadata": {},
   "outputs": [
    {
     "data": {
      "text/html": [
       "<div>\n",
       "<style>\n",
       "    .dataframe thead tr:only-child th {\n",
       "        text-align: right;\n",
       "    }\n",
       "\n",
       "    .dataframe thead th {\n",
       "        text-align: left;\n",
       "    }\n",
       "\n",
       "    .dataframe tbody tr th {\n",
       "        vertical-align: top;\n",
       "    }\n",
       "</style>\n",
       "<table border=\"1\" class=\"dataframe\">\n",
       "  <thead>\n",
       "    <tr style=\"text-align: right;\">\n",
       "      <th></th>\n",
       "      <th>Ethernet_dst</th>\n",
       "      <th>Ethernet_src</th>\n",
       "      <th>Ethernet_type</th>\n",
       "      <th>IP_chksum</th>\n",
       "      <th>IP_dst</th>\n",
       "      <th>IP_flags</th>\n",
       "      <th>IP_frag</th>\n",
       "      <th>IP_id</th>\n",
       "      <th>IP_ihl</th>\n",
       "      <th>IP_len</th>\n",
       "      <th>...</th>\n",
       "      <th>TCP_chksum</th>\n",
       "      <th>TCP_dataofs</th>\n",
       "      <th>TCP_dport</th>\n",
       "      <th>TCP_flags</th>\n",
       "      <th>TCP_options</th>\n",
       "      <th>TCP_reserved</th>\n",
       "      <th>TCP_seq</th>\n",
       "      <th>TCP_sport</th>\n",
       "      <th>TCP_urgptr</th>\n",
       "      <th>TCP_window</th>\n",
       "    </tr>\n",
       "  </thead>\n",
       "  <tbody>\n",
       "    <tr>\n",
       "      <th>0</th>\n",
       "      <td>\"??\"</td>\n",
       "      <td>\"??\"</td>\n",
       "      <td>\"??\"</td>\n",
       "      <td>\"0x56c\"</td>\n",
       "      <td>\"151.101.1.254\"</td>\n",
       "      <td>\"DF\"</td>\n",
       "      <td>\"0\"</td>\n",
       "      <td>\"55125\"</td>\n",
       "      <td>\"5\"</td>\n",
       "      <td>\"797\"</td>\n",
       "      <td>...</td>\n",
       "      <td>\"0x213c\"</td>\n",
       "      <td>\"8\"</td>\n",
       "      <td>\"https\"</td>\n",
       "      <td>\"PA\"</td>\n",
       "      <td>\"[('NOP', None), ('NOP', None), ('Timestamp', ...</td>\n",
       "      <td>\"0\"</td>\n",
       "      <td>\"3463306170\"</td>\n",
       "      <td>\"59554\"</td>\n",
       "      <td>\"0\"</td>\n",
       "      <td>\"9675\"</td>\n",
       "    </tr>\n",
       "    <tr>\n",
       "      <th>1</th>\n",
       "      <td>\"??\"</td>\n",
       "      <td>\"??\"</td>\n",
       "      <td>\"??\"</td>\n",
       "      <td>\"0x56c\"</td>\n",
       "      <td>\"151.101.1.254\"</td>\n",
       "      <td>\"DF\"</td>\n",
       "      <td>\"0\"</td>\n",
       "      <td>\"55125\"</td>\n",
       "      <td>\"5\"</td>\n",
       "      <td>\"797\"</td>\n",
       "      <td>...</td>\n",
       "      <td>\"0x213c\"</td>\n",
       "      <td>\"8\"</td>\n",
       "      <td>\"https\"</td>\n",
       "      <td>\"PA\"</td>\n",
       "      <td>\"[('NOP', None), ('NOP', None), ('Timestamp', ...</td>\n",
       "      <td>\"0\"</td>\n",
       "      <td>\"3463306170\"</td>\n",
       "      <td>\"59554\"</td>\n",
       "      <td>\"0\"</td>\n",
       "      <td>\"9675\"</td>\n",
       "    </tr>\n",
       "    <tr>\n",
       "      <th>2</th>\n",
       "      <td>\"??\"</td>\n",
       "      <td>\"??\"</td>\n",
       "      <td>\"??\"</td>\n",
       "      <td>\"0x56c\"</td>\n",
       "      <td>\"151.101.1.254\"</td>\n",
       "      <td>\"DF\"</td>\n",
       "      <td>\"0\"</td>\n",
       "      <td>\"55125\"</td>\n",
       "      <td>\"5\"</td>\n",
       "      <td>\"797\"</td>\n",
       "      <td>...</td>\n",
       "      <td>\"0x213c\"</td>\n",
       "      <td>\"8\"</td>\n",
       "      <td>\"https\"</td>\n",
       "      <td>\"PA\"</td>\n",
       "      <td>\"[('NOP', None), ('NOP', None), ('Timestamp', ...</td>\n",
       "      <td>\"0\"</td>\n",
       "      <td>\"3463306170\"</td>\n",
       "      <td>\"59554\"</td>\n",
       "      <td>\"0\"</td>\n",
       "      <td>\"9675\"</td>\n",
       "    </tr>\n",
       "  </tbody>\n",
       "</table>\n",
       "<p>3 rows × 27 columns</p>\n",
       "</div>"
      ],
      "text/plain": [
       "  Ethernet_dst Ethernet_src Ethernet_type IP_chksum           IP_dst IP_flags  \\\n",
       "0         \"??\"         \"??\"          \"??\"   \"0x56c\"  \"151.101.1.254\"     \"DF\"   \n",
       "1         \"??\"         \"??\"          \"??\"   \"0x56c\"  \"151.101.1.254\"     \"DF\"   \n",
       "2         \"??\"         \"??\"          \"??\"   \"0x56c\"  \"151.101.1.254\"     \"DF\"   \n",
       "\n",
       "  IP_frag    IP_id IP_ihl IP_len    ...     TCP_chksum TCP_dataofs TCP_dport  \\\n",
       "0     \"0\"  \"55125\"    \"5\"  \"797\"    ...       \"0x213c\"         \"8\"   \"https\"   \n",
       "1     \"0\"  \"55125\"    \"5\"  \"797\"    ...       \"0x213c\"         \"8\"   \"https\"   \n",
       "2     \"0\"  \"55125\"    \"5\"  \"797\"    ...       \"0x213c\"         \"8\"   \"https\"   \n",
       "\n",
       "  TCP_flags                                        TCP_options TCP_reserved  \\\n",
       "0      \"PA\"  \"[('NOP', None), ('NOP', None), ('Timestamp', ...          \"0\"   \n",
       "1      \"PA\"  \"[('NOP', None), ('NOP', None), ('Timestamp', ...          \"0\"   \n",
       "2      \"PA\"  \"[('NOP', None), ('NOP', None), ('Timestamp', ...          \"0\"   \n",
       "\n",
       "        TCP_seq TCP_sport TCP_urgptr TCP_window  \n",
       "0  \"3463306170\"   \"59554\"        \"0\"     \"9675\"  \n",
       "1  \"3463306170\"   \"59554\"        \"0\"     \"9675\"  \n",
       "2  \"3463306170\"   \"59554\"        \"0\"     \"9675\"  \n",
       "\n",
       "[3 rows x 27 columns]"
      ]
     },
     "execution_count": 29,
     "metadata": {},
     "output_type": "execute_result"
    }
   ],
   "source": [
    "df"
   ]
  },
  {
   "cell_type": "code",
   "execution_count": null,
   "metadata": {
    "collapsed": true
   },
   "outputs": [],
   "source": []
  }
 ],
 "metadata": {
  "kernelspec": {
   "display_name": "Python 3",
   "language": "python",
   "name": "python3"
  },
  "language_info": {
   "codemirror_mode": {
    "name": "ipython",
    "version": 3
   },
   "file_extension": ".py",
   "mimetype": "text/x-python",
   "name": "python",
   "nbconvert_exporter": "python",
   "pygments_lexer": "ipython3",
   "version": "3.6.3"
  }
 },
 "nbformat": 4,
 "nbformat_minor": 2
}
